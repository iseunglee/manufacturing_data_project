{
 "cells": [
  {
   "cell_type": "code",
   "execution_count": 1,
   "metadata": {},
   "outputs": [],
   "source": [
    "import pandas as pd\n",
    "import altair as alt"
   ]
  },
  {
   "cell_type": "code",
   "execution_count": 2,
   "metadata": {},
   "outputs": [
    {
     "data": {
      "text/html": [
       "<div>\n",
       "<style scoped>\n",
       "    .dataframe tbody tr th:only-of-type {\n",
       "        vertical-align: middle;\n",
       "    }\n",
       "\n",
       "    .dataframe tbody tr th {\n",
       "        vertical-align: top;\n",
       "    }\n",
       "\n",
       "    .dataframe thead th {\n",
       "        text-align: right;\n",
       "    }\n",
       "</style>\n",
       "<table border=\"1\" class=\"dataframe\">\n",
       "  <thead>\n",
       "    <tr style=\"text-align: right;\">\n",
       "      <th></th>\n",
       "      <th>motor_type</th>\n",
       "      <th>watt</th>\n",
       "      <th>3PH/1PH</th>\n",
       "      <th>esp</th>\n",
       "      <th>air_velocity</th>\n",
       "      <th>power_consumption</th>\n",
       "      <th>current</th>\n",
       "      <th>power_factor</th>\n",
       "      <th>noise</th>\n",
       "      <th>vibration</th>\n",
       "      <th>filter_type</th>\n",
       "      <th>filter_thickness</th>\n",
       "      <th>filter_pressure</th>\n",
       "      <th>spec</th>\n",
       "    </tr>\n",
       "  </thead>\n",
       "  <tbody>\n",
       "    <tr>\n",
       "      <th>0</th>\n",
       "      <td>BLDC</td>\n",
       "      <td>502</td>\n",
       "      <td>1PH</td>\n",
       "      <td>11</td>\n",
       "      <td>0.7</td>\n",
       "      <td>600</td>\n",
       "      <td>3.73</td>\n",
       "      <td>86</td>\n",
       "      <td>61</td>\n",
       "      <td>1.00</td>\n",
       "      <td>ULPA</td>\n",
       "      <td>75t</td>\n",
       "      <td>13.5</td>\n",
       "      <td>a</td>\n",
       "    </tr>\n",
       "    <tr>\n",
       "      <th>1</th>\n",
       "      <td>AC</td>\n",
       "      <td>422</td>\n",
       "      <td>1PH</td>\n",
       "      <td>9</td>\n",
       "      <td>0.7</td>\n",
       "      <td>599</td>\n",
       "      <td>3.44</td>\n",
       "      <td>84</td>\n",
       "      <td>63</td>\n",
       "      <td>1.00</td>\n",
       "      <td>ULPA</td>\n",
       "      <td>75t</td>\n",
       "      <td>14.0</td>\n",
       "      <td>a</td>\n",
       "    </tr>\n",
       "    <tr>\n",
       "      <th>2</th>\n",
       "      <td>BLDC</td>\n",
       "      <td>631</td>\n",
       "      <td>1PH</td>\n",
       "      <td>10</td>\n",
       "      <td>0.7</td>\n",
       "      <td>598</td>\n",
       "      <td>3.39</td>\n",
       "      <td>97</td>\n",
       "      <td>56</td>\n",
       "      <td>1.00</td>\n",
       "      <td>ULPA</td>\n",
       "      <td>120t</td>\n",
       "      <td>13.5</td>\n",
       "      <td>a</td>\n",
       "    </tr>\n",
       "    <tr>\n",
       "      <th>3</th>\n",
       "      <td>BLDC</td>\n",
       "      <td>542</td>\n",
       "      <td>3PH</td>\n",
       "      <td>8</td>\n",
       "      <td>0.5</td>\n",
       "      <td>585</td>\n",
       "      <td>3.13</td>\n",
       "      <td>85</td>\n",
       "      <td>52</td>\n",
       "      <td>1.00</td>\n",
       "      <td>ULPA</td>\n",
       "      <td>75t</td>\n",
       "      <td>13.0</td>\n",
       "      <td>a</td>\n",
       "    </tr>\n",
       "    <tr>\n",
       "      <th>4</th>\n",
       "      <td>BLDC</td>\n",
       "      <td>472</td>\n",
       "      <td>3PH</td>\n",
       "      <td>9</td>\n",
       "      <td>0.5</td>\n",
       "      <td>472</td>\n",
       "      <td>1.78</td>\n",
       "      <td>65</td>\n",
       "      <td>50</td>\n",
       "      <td>0.81</td>\n",
       "      <td>HEPA</td>\n",
       "      <td>75t</td>\n",
       "      <td>13.0</td>\n",
       "      <td>a</td>\n",
       "    </tr>\n",
       "    <tr>\n",
       "      <th>...</th>\n",
       "      <td>...</td>\n",
       "      <td>...</td>\n",
       "      <td>...</td>\n",
       "      <td>...</td>\n",
       "      <td>...</td>\n",
       "      <td>...</td>\n",
       "      <td>...</td>\n",
       "      <td>...</td>\n",
       "      <td>...</td>\n",
       "      <td>...</td>\n",
       "      <td>...</td>\n",
       "      <td>...</td>\n",
       "      <td>...</td>\n",
       "      <td>...</td>\n",
       "    </tr>\n",
       "    <tr>\n",
       "      <th>229</th>\n",
       "      <td>AC</td>\n",
       "      <td>207</td>\n",
       "      <td>1PH</td>\n",
       "      <td>19</td>\n",
       "      <td>0.1</td>\n",
       "      <td>36</td>\n",
       "      <td>0.26</td>\n",
       "      <td>43</td>\n",
       "      <td>62</td>\n",
       "      <td>0.01</td>\n",
       "      <td>HEPA</td>\n",
       "      <td>75t</td>\n",
       "      <td>8.0</td>\n",
       "      <td>e</td>\n",
       "    </tr>\n",
       "    <tr>\n",
       "      <th>230</th>\n",
       "      <td>AC</td>\n",
       "      <td>199</td>\n",
       "      <td>3PH</td>\n",
       "      <td>20</td>\n",
       "      <td>0.5</td>\n",
       "      <td>39</td>\n",
       "      <td>0.26</td>\n",
       "      <td>43</td>\n",
       "      <td>71</td>\n",
       "      <td>0.03</td>\n",
       "      <td>HEPA</td>\n",
       "      <td>120t</td>\n",
       "      <td>8.5</td>\n",
       "      <td>e</td>\n",
       "    </tr>\n",
       "    <tr>\n",
       "      <th>231</th>\n",
       "      <td>AC</td>\n",
       "      <td>213</td>\n",
       "      <td>1PH</td>\n",
       "      <td>12</td>\n",
       "      <td>0.1</td>\n",
       "      <td>32</td>\n",
       "      <td>0.26</td>\n",
       "      <td>43</td>\n",
       "      <td>51</td>\n",
       "      <td>0.01</td>\n",
       "      <td>ULPA</td>\n",
       "      <td>75t</td>\n",
       "      <td>9.0</td>\n",
       "      <td>e</td>\n",
       "    </tr>\n",
       "    <tr>\n",
       "      <th>232</th>\n",
       "      <td>AC</td>\n",
       "      <td>203</td>\n",
       "      <td>1PH</td>\n",
       "      <td>11</td>\n",
       "      <td>0.3</td>\n",
       "      <td>42</td>\n",
       "      <td>0.26</td>\n",
       "      <td>43</td>\n",
       "      <td>58</td>\n",
       "      <td>0.02</td>\n",
       "      <td>ULPA</td>\n",
       "      <td>75t</td>\n",
       "      <td>9.0</td>\n",
       "      <td>e</td>\n",
       "    </tr>\n",
       "    <tr>\n",
       "      <th>233</th>\n",
       "      <td>AC</td>\n",
       "      <td>172</td>\n",
       "      <td>3PH</td>\n",
       "      <td>10</td>\n",
       "      <td>0.1</td>\n",
       "      <td>45</td>\n",
       "      <td>0.26</td>\n",
       "      <td>43</td>\n",
       "      <td>50</td>\n",
       "      <td>0.03</td>\n",
       "      <td>ULPA</td>\n",
       "      <td>75t</td>\n",
       "      <td>9.0</td>\n",
       "      <td>e</td>\n",
       "    </tr>\n",
       "  </tbody>\n",
       "</table>\n",
       "<p>234 rows × 14 columns</p>\n",
       "</div>"
      ],
      "text/plain": [
       "    motor_type  watt 3PH/1PH  esp  air_velocity  power_consumption  current  \\\n",
       "0         BLDC   502     1PH   11           0.7                600     3.73   \n",
       "1           AC   422     1PH    9           0.7                599     3.44   \n",
       "2         BLDC   631     1PH   10           0.7                598     3.39   \n",
       "3         BLDC   542     3PH    8           0.5                585     3.13   \n",
       "4         BLDC   472     3PH    9           0.5                472     1.78   \n",
       "..         ...   ...     ...  ...           ...                ...      ...   \n",
       "229         AC   207     1PH   19           0.1                 36     0.26   \n",
       "230         AC   199     3PH   20           0.5                 39     0.26   \n",
       "231         AC   213     1PH   12           0.1                 32     0.26   \n",
       "232         AC   203     1PH   11           0.3                 42     0.26   \n",
       "233         AC   172     3PH   10           0.1                 45     0.26   \n",
       "\n",
       "     power_factor  noise  vibration filter_type filter_thickness  \\\n",
       "0              86     61       1.00        ULPA              75t   \n",
       "1              84     63       1.00        ULPA              75t   \n",
       "2              97     56       1.00        ULPA             120t   \n",
       "3              85     52       1.00        ULPA              75t   \n",
       "4              65     50       0.81        HEPA              75t   \n",
       "..            ...    ...        ...         ...              ...   \n",
       "229            43     62       0.01        HEPA              75t   \n",
       "230            43     71       0.03        HEPA             120t   \n",
       "231            43     51       0.01        ULPA              75t   \n",
       "232            43     58       0.02        ULPA              75t   \n",
       "233            43     50       0.03        ULPA              75t   \n",
       "\n",
       "     filter_pressure spec  \n",
       "0               13.5    a  \n",
       "1               14.0    a  \n",
       "2               13.5    a  \n",
       "3               13.0    a  \n",
       "4               13.0    a  \n",
       "..               ...  ...  \n",
       "229              8.0    e  \n",
       "230              8.5    e  \n",
       "231              9.0    e  \n",
       "232              9.0    e  \n",
       "233              9.0    e  \n",
       "\n",
       "[234 rows x 14 columns]"
      ]
     },
     "execution_count": 2,
     "metadata": {},
     "output_type": "execute_result"
    }
   ],
   "source": [
    "df = pd.read_csv(\"data.csv\")\n",
    "df"
   ]
  },
  {
   "cell_type": "code",
   "execution_count": 3,
   "metadata": {},
   "outputs": [
    {
     "data": {
      "application/vnd.plotly.v1+json": {
       "config": {
        "plotlyServerURL": "https://plot.ly"
       },
       "data": [
        {
         "alignmentgroup": "True",
         "hovertemplate": "spec=%{x}<br>noise=%{y}<extra></extra>",
         "legendgroup": "",
         "marker": {
          "color": "#636efa"
         },
         "name": "",
         "notched": false,
         "offsetgroup": "",
         "orientation": "v",
         "showlegend": false,
         "type": "box",
         "x": [
          "a",
          "a",
          "a",
          "a",
          "a",
          "a",
          "a",
          "a",
          "a",
          "a",
          "a",
          "a",
          "a",
          "a",
          "a",
          "a",
          "a",
          "a",
          "a",
          "a",
          "a",
          "a",
          "a",
          "a",
          "a",
          "a",
          "a",
          "a",
          "a",
          "a",
          "a",
          "a",
          "a",
          "a",
          "a",
          "a",
          "a",
          "a",
          "a",
          "a",
          "a",
          "a",
          "a",
          "a",
          "a",
          "a",
          "a",
          "a",
          "a",
          "a",
          "a",
          "a",
          "a",
          "a",
          "a",
          "a",
          "a",
          "a",
          "a",
          "a",
          "a",
          "b",
          "b",
          "b",
          "b",
          "b",
          "b",
          "b",
          "b",
          "b",
          "b",
          "b",
          "b",
          "b",
          "b",
          "b",
          "b",
          "b",
          "b",
          "b",
          "b",
          "b",
          "b",
          "b",
          "b",
          "b",
          "b",
          "b",
          "b",
          "b",
          "b",
          "b",
          "b",
          "b",
          "b",
          "b",
          "b",
          "b",
          "b",
          "b",
          "b",
          "b",
          "b",
          "b",
          "b",
          "b",
          "b",
          "b",
          "b",
          "b",
          "b",
          "b",
          "b",
          "b",
          "b",
          "b",
          "b",
          "b",
          "b",
          "b",
          "b",
          "b",
          "b",
          "b",
          "b",
          "b",
          "b",
          "b",
          "b",
          "b",
          "c",
          "c",
          "c",
          "c",
          "c",
          "c",
          "c",
          "c",
          "c",
          "c",
          "c",
          "c",
          "c",
          "c",
          "c",
          "c",
          "c",
          "c",
          "c",
          "c",
          "c",
          "c",
          "c",
          "c",
          "c",
          "c",
          "c",
          "c",
          "c",
          "c",
          "c",
          "c",
          "c",
          "c",
          "c",
          "c",
          "c",
          "c",
          "c",
          "c",
          "c",
          "c",
          "c",
          "c",
          "c",
          "c",
          "c",
          "c",
          "c",
          "c",
          "c",
          "c",
          "c",
          "d",
          "d",
          "d",
          "d",
          "d",
          "d",
          "d",
          "d",
          "d",
          "d",
          "d",
          "d",
          "d",
          "d",
          "d",
          "d",
          "d",
          "d",
          "d",
          "d",
          "d",
          "d",
          "d",
          "d",
          "d",
          "d",
          "d",
          "d",
          "d",
          "d",
          "e",
          "e",
          "e",
          "e",
          "e",
          "e",
          "e",
          "e",
          "e",
          "e",
          "e",
          "e",
          "e",
          "e",
          "e",
          "e",
          "e",
          "e",
          "e",
          "e",
          "e"
         ],
         "x0": " ",
         "xaxis": "x",
         "y": [
          61,
          63,
          56,
          52,
          50,
          59,
          56,
          58,
          56,
          63,
          61,
          59,
          50,
          53,
          60,
          58,
          56,
          57,
          57,
          61,
          62,
          57,
          50,
          56,
          63,
          60,
          63,
          55,
          56,
          62,
          52,
          55,
          56,
          60,
          64,
          63,
          61,
          53,
          56,
          56,
          59,
          60,
          62,
          63,
          60,
          58,
          53,
          52,
          63,
          61,
          60,
          53,
          50,
          64,
          61,
          57,
          50,
          54,
          62,
          55,
          51,
          60,
          62,
          58,
          66,
          51,
          59,
          63,
          61,
          61,
          55,
          66,
          66,
          61,
          58,
          58,
          64,
          59,
          64,
          61,
          58,
          66,
          61,
          63,
          66,
          64,
          63,
          60,
          61,
          66,
          60,
          59,
          48,
          44,
          49,
          50,
          61,
          62,
          58,
          55,
          57,
          48,
          55,
          59,
          60,
          51,
          58,
          65,
          58,
          60,
          64,
          59,
          58,
          58,
          63,
          62,
          63,
          64,
          61,
          66,
          64,
          65,
          60,
          65,
          66,
          63,
          60,
          61,
          58,
          66,
          57,
          60,
          59,
          49,
          48,
          51,
          58,
          47,
          66,
          61,
          63,
          56,
          62,
          50,
          51,
          65,
          60,
          60,
          66,
          66,
          58,
          66,
          62,
          61,
          58,
          60,
          65,
          59,
          64,
          63,
          63,
          64,
          62,
          60,
          58,
          62,
          59,
          59,
          59,
          63,
          59,
          60,
          61,
          60,
          61,
          62,
          63,
          64,
          63,
          58,
          61,
          61,
          62,
          66,
          66,
          69,
          65,
          65,
          69,
          68,
          68,
          69,
          70,
          70,
          67,
          70,
          65,
          67,
          68,
          66,
          65,
          66,
          70,
          68,
          65,
          66,
          67,
          66,
          66,
          68,
          65,
          68,
          66,
          70,
          68,
          69,
          66,
          66,
          70,
          68,
          65,
          70,
          70,
          64,
          71,
          78,
          67,
          54,
          72,
          62,
          71,
          51,
          58,
          50
         ],
         "y0": " ",
         "yaxis": "y"
        }
       ],
       "layout": {
        "boxmode": "group",
        "legend": {
         "tracegroupgap": 0
        },
        "margin": {
         "t": 60
        },
        "template": {
         "data": {
          "bar": [
           {
            "error_x": {
             "color": "#2a3f5f"
            },
            "error_y": {
             "color": "#2a3f5f"
            },
            "marker": {
             "line": {
              "color": "#E5ECF6",
              "width": 0.5
             },
             "pattern": {
              "fillmode": "overlay",
              "size": 10,
              "solidity": 0.2
             }
            },
            "type": "bar"
           }
          ],
          "barpolar": [
           {
            "marker": {
             "line": {
              "color": "#E5ECF6",
              "width": 0.5
             },
             "pattern": {
              "fillmode": "overlay",
              "size": 10,
              "solidity": 0.2
             }
            },
            "type": "barpolar"
           }
          ],
          "carpet": [
           {
            "aaxis": {
             "endlinecolor": "#2a3f5f",
             "gridcolor": "white",
             "linecolor": "white",
             "minorgridcolor": "white",
             "startlinecolor": "#2a3f5f"
            },
            "baxis": {
             "endlinecolor": "#2a3f5f",
             "gridcolor": "white",
             "linecolor": "white",
             "minorgridcolor": "white",
             "startlinecolor": "#2a3f5f"
            },
            "type": "carpet"
           }
          ],
          "choropleth": [
           {
            "colorbar": {
             "outlinewidth": 0,
             "ticks": ""
            },
            "type": "choropleth"
           }
          ],
          "contour": [
           {
            "colorbar": {
             "outlinewidth": 0,
             "ticks": ""
            },
            "colorscale": [
             [
              0,
              "#0d0887"
             ],
             [
              0.1111111111111111,
              "#46039f"
             ],
             [
              0.2222222222222222,
              "#7201a8"
             ],
             [
              0.3333333333333333,
              "#9c179e"
             ],
             [
              0.4444444444444444,
              "#bd3786"
             ],
             [
              0.5555555555555556,
              "#d8576b"
             ],
             [
              0.6666666666666666,
              "#ed7953"
             ],
             [
              0.7777777777777778,
              "#fb9f3a"
             ],
             [
              0.8888888888888888,
              "#fdca26"
             ],
             [
              1,
              "#f0f921"
             ]
            ],
            "type": "contour"
           }
          ],
          "contourcarpet": [
           {
            "colorbar": {
             "outlinewidth": 0,
             "ticks": ""
            },
            "type": "contourcarpet"
           }
          ],
          "heatmap": [
           {
            "colorbar": {
             "outlinewidth": 0,
             "ticks": ""
            },
            "colorscale": [
             [
              0,
              "#0d0887"
             ],
             [
              0.1111111111111111,
              "#46039f"
             ],
             [
              0.2222222222222222,
              "#7201a8"
             ],
             [
              0.3333333333333333,
              "#9c179e"
             ],
             [
              0.4444444444444444,
              "#bd3786"
             ],
             [
              0.5555555555555556,
              "#d8576b"
             ],
             [
              0.6666666666666666,
              "#ed7953"
             ],
             [
              0.7777777777777778,
              "#fb9f3a"
             ],
             [
              0.8888888888888888,
              "#fdca26"
             ],
             [
              1,
              "#f0f921"
             ]
            ],
            "type": "heatmap"
           }
          ],
          "heatmapgl": [
           {
            "colorbar": {
             "outlinewidth": 0,
             "ticks": ""
            },
            "colorscale": [
             [
              0,
              "#0d0887"
             ],
             [
              0.1111111111111111,
              "#46039f"
             ],
             [
              0.2222222222222222,
              "#7201a8"
             ],
             [
              0.3333333333333333,
              "#9c179e"
             ],
             [
              0.4444444444444444,
              "#bd3786"
             ],
             [
              0.5555555555555556,
              "#d8576b"
             ],
             [
              0.6666666666666666,
              "#ed7953"
             ],
             [
              0.7777777777777778,
              "#fb9f3a"
             ],
             [
              0.8888888888888888,
              "#fdca26"
             ],
             [
              1,
              "#f0f921"
             ]
            ],
            "type": "heatmapgl"
           }
          ],
          "histogram": [
           {
            "marker": {
             "pattern": {
              "fillmode": "overlay",
              "size": 10,
              "solidity": 0.2
             }
            },
            "type": "histogram"
           }
          ],
          "histogram2d": [
           {
            "colorbar": {
             "outlinewidth": 0,
             "ticks": ""
            },
            "colorscale": [
             [
              0,
              "#0d0887"
             ],
             [
              0.1111111111111111,
              "#46039f"
             ],
             [
              0.2222222222222222,
              "#7201a8"
             ],
             [
              0.3333333333333333,
              "#9c179e"
             ],
             [
              0.4444444444444444,
              "#bd3786"
             ],
             [
              0.5555555555555556,
              "#d8576b"
             ],
             [
              0.6666666666666666,
              "#ed7953"
             ],
             [
              0.7777777777777778,
              "#fb9f3a"
             ],
             [
              0.8888888888888888,
              "#fdca26"
             ],
             [
              1,
              "#f0f921"
             ]
            ],
            "type": "histogram2d"
           }
          ],
          "histogram2dcontour": [
           {
            "colorbar": {
             "outlinewidth": 0,
             "ticks": ""
            },
            "colorscale": [
             [
              0,
              "#0d0887"
             ],
             [
              0.1111111111111111,
              "#46039f"
             ],
             [
              0.2222222222222222,
              "#7201a8"
             ],
             [
              0.3333333333333333,
              "#9c179e"
             ],
             [
              0.4444444444444444,
              "#bd3786"
             ],
             [
              0.5555555555555556,
              "#d8576b"
             ],
             [
              0.6666666666666666,
              "#ed7953"
             ],
             [
              0.7777777777777778,
              "#fb9f3a"
             ],
             [
              0.8888888888888888,
              "#fdca26"
             ],
             [
              1,
              "#f0f921"
             ]
            ],
            "type": "histogram2dcontour"
           }
          ],
          "mesh3d": [
           {
            "colorbar": {
             "outlinewidth": 0,
             "ticks": ""
            },
            "type": "mesh3d"
           }
          ],
          "parcoords": [
           {
            "line": {
             "colorbar": {
              "outlinewidth": 0,
              "ticks": ""
             }
            },
            "type": "parcoords"
           }
          ],
          "pie": [
           {
            "automargin": true,
            "type": "pie"
           }
          ],
          "scatter": [
           {
            "fillpattern": {
             "fillmode": "overlay",
             "size": 10,
             "solidity": 0.2
            },
            "type": "scatter"
           }
          ],
          "scatter3d": [
           {
            "line": {
             "colorbar": {
              "outlinewidth": 0,
              "ticks": ""
             }
            },
            "marker": {
             "colorbar": {
              "outlinewidth": 0,
              "ticks": ""
             }
            },
            "type": "scatter3d"
           }
          ],
          "scattercarpet": [
           {
            "marker": {
             "colorbar": {
              "outlinewidth": 0,
              "ticks": ""
             }
            },
            "type": "scattercarpet"
           }
          ],
          "scattergeo": [
           {
            "marker": {
             "colorbar": {
              "outlinewidth": 0,
              "ticks": ""
             }
            },
            "type": "scattergeo"
           }
          ],
          "scattergl": [
           {
            "marker": {
             "colorbar": {
              "outlinewidth": 0,
              "ticks": ""
             }
            },
            "type": "scattergl"
           }
          ],
          "scattermapbox": [
           {
            "marker": {
             "colorbar": {
              "outlinewidth": 0,
              "ticks": ""
             }
            },
            "type": "scattermapbox"
           }
          ],
          "scatterpolar": [
           {
            "marker": {
             "colorbar": {
              "outlinewidth": 0,
              "ticks": ""
             }
            },
            "type": "scatterpolar"
           }
          ],
          "scatterpolargl": [
           {
            "marker": {
             "colorbar": {
              "outlinewidth": 0,
              "ticks": ""
             }
            },
            "type": "scatterpolargl"
           }
          ],
          "scatterternary": [
           {
            "marker": {
             "colorbar": {
              "outlinewidth": 0,
              "ticks": ""
             }
            },
            "type": "scatterternary"
           }
          ],
          "surface": [
           {
            "colorbar": {
             "outlinewidth": 0,
             "ticks": ""
            },
            "colorscale": [
             [
              0,
              "#0d0887"
             ],
             [
              0.1111111111111111,
              "#46039f"
             ],
             [
              0.2222222222222222,
              "#7201a8"
             ],
             [
              0.3333333333333333,
              "#9c179e"
             ],
             [
              0.4444444444444444,
              "#bd3786"
             ],
             [
              0.5555555555555556,
              "#d8576b"
             ],
             [
              0.6666666666666666,
              "#ed7953"
             ],
             [
              0.7777777777777778,
              "#fb9f3a"
             ],
             [
              0.8888888888888888,
              "#fdca26"
             ],
             [
              1,
              "#f0f921"
             ]
            ],
            "type": "surface"
           }
          ],
          "table": [
           {
            "cells": {
             "fill": {
              "color": "#EBF0F8"
             },
             "line": {
              "color": "white"
             }
            },
            "header": {
             "fill": {
              "color": "#C8D4E3"
             },
             "line": {
              "color": "white"
             }
            },
            "type": "table"
           }
          ]
         },
         "layout": {
          "annotationdefaults": {
           "arrowcolor": "#2a3f5f",
           "arrowhead": 0,
           "arrowwidth": 1
          },
          "autotypenumbers": "strict",
          "coloraxis": {
           "colorbar": {
            "outlinewidth": 0,
            "ticks": ""
           }
          },
          "colorscale": {
           "diverging": [
            [
             0,
             "#8e0152"
            ],
            [
             0.1,
             "#c51b7d"
            ],
            [
             0.2,
             "#de77ae"
            ],
            [
             0.3,
             "#f1b6da"
            ],
            [
             0.4,
             "#fde0ef"
            ],
            [
             0.5,
             "#f7f7f7"
            ],
            [
             0.6,
             "#e6f5d0"
            ],
            [
             0.7,
             "#b8e186"
            ],
            [
             0.8,
             "#7fbc41"
            ],
            [
             0.9,
             "#4d9221"
            ],
            [
             1,
             "#276419"
            ]
           ],
           "sequential": [
            [
             0,
             "#0d0887"
            ],
            [
             0.1111111111111111,
             "#46039f"
            ],
            [
             0.2222222222222222,
             "#7201a8"
            ],
            [
             0.3333333333333333,
             "#9c179e"
            ],
            [
             0.4444444444444444,
             "#bd3786"
            ],
            [
             0.5555555555555556,
             "#d8576b"
            ],
            [
             0.6666666666666666,
             "#ed7953"
            ],
            [
             0.7777777777777778,
             "#fb9f3a"
            ],
            [
             0.8888888888888888,
             "#fdca26"
            ],
            [
             1,
             "#f0f921"
            ]
           ],
           "sequentialminus": [
            [
             0,
             "#0d0887"
            ],
            [
             0.1111111111111111,
             "#46039f"
            ],
            [
             0.2222222222222222,
             "#7201a8"
            ],
            [
             0.3333333333333333,
             "#9c179e"
            ],
            [
             0.4444444444444444,
             "#bd3786"
            ],
            [
             0.5555555555555556,
             "#d8576b"
            ],
            [
             0.6666666666666666,
             "#ed7953"
            ],
            [
             0.7777777777777778,
             "#fb9f3a"
            ],
            [
             0.8888888888888888,
             "#fdca26"
            ],
            [
             1,
             "#f0f921"
            ]
           ]
          },
          "colorway": [
           "#636efa",
           "#EF553B",
           "#00cc96",
           "#ab63fa",
           "#FFA15A",
           "#19d3f3",
           "#FF6692",
           "#B6E880",
           "#FF97FF",
           "#FECB52"
          ],
          "font": {
           "color": "#2a3f5f"
          },
          "geo": {
           "bgcolor": "white",
           "lakecolor": "white",
           "landcolor": "#E5ECF6",
           "showlakes": true,
           "showland": true,
           "subunitcolor": "white"
          },
          "hoverlabel": {
           "align": "left"
          },
          "hovermode": "closest",
          "mapbox": {
           "style": "light"
          },
          "paper_bgcolor": "white",
          "plot_bgcolor": "#E5ECF6",
          "polar": {
           "angularaxis": {
            "gridcolor": "white",
            "linecolor": "white",
            "ticks": ""
           },
           "bgcolor": "#E5ECF6",
           "radialaxis": {
            "gridcolor": "white",
            "linecolor": "white",
            "ticks": ""
           }
          },
          "scene": {
           "xaxis": {
            "backgroundcolor": "#E5ECF6",
            "gridcolor": "white",
            "gridwidth": 2,
            "linecolor": "white",
            "showbackground": true,
            "ticks": "",
            "zerolinecolor": "white"
           },
           "yaxis": {
            "backgroundcolor": "#E5ECF6",
            "gridcolor": "white",
            "gridwidth": 2,
            "linecolor": "white",
            "showbackground": true,
            "ticks": "",
            "zerolinecolor": "white"
           },
           "zaxis": {
            "backgroundcolor": "#E5ECF6",
            "gridcolor": "white",
            "gridwidth": 2,
            "linecolor": "white",
            "showbackground": true,
            "ticks": "",
            "zerolinecolor": "white"
           }
          },
          "shapedefaults": {
           "line": {
            "color": "#2a3f5f"
           }
          },
          "ternary": {
           "aaxis": {
            "gridcolor": "white",
            "linecolor": "white",
            "ticks": ""
           },
           "baxis": {
            "gridcolor": "white",
            "linecolor": "white",
            "ticks": ""
           },
           "bgcolor": "#E5ECF6",
           "caxis": {
            "gridcolor": "white",
            "linecolor": "white",
            "ticks": ""
           }
          },
          "title": {
           "x": 0.05
          },
          "xaxis": {
           "automargin": true,
           "gridcolor": "white",
           "linecolor": "white",
           "ticks": "",
           "title": {
            "standoff": 15
           },
           "zerolinecolor": "white",
           "zerolinewidth": 2
          },
          "yaxis": {
           "automargin": true,
           "gridcolor": "white",
           "linecolor": "white",
           "ticks": "",
           "title": {
            "standoff": 15
           },
           "zerolinecolor": "white",
           "zerolinewidth": 2
          }
         }
        },
        "xaxis": {
         "anchor": "y",
         "domain": [
          0,
          1
         ],
         "title": {
          "text": "spec"
         }
        },
        "yaxis": {
         "anchor": "x",
         "domain": [
          0,
          1
         ],
         "title": {
          "text": "noise"
         }
        }
       }
      }
     },
     "metadata": {},
     "output_type": "display_data"
    }
   ],
   "source": [
    "import plotly.express as px\n",
    "\n",
    "fig = px.box(df, x= \"spec\", y=\"noise\")\n",
    "fig.show()"
   ]
  },
  {
   "cell_type": "code",
   "execution_count": 11,
   "metadata": {},
   "outputs": [
    {
     "data": {
      "text/html": [
       "<div>\n",
       "<style scoped>\n",
       "    .dataframe tbody tr th:only-of-type {\n",
       "        vertical-align: middle;\n",
       "    }\n",
       "\n",
       "    .dataframe tbody tr th {\n",
       "        vertical-align: top;\n",
       "    }\n",
       "\n",
       "    .dataframe thead th {\n",
       "        text-align: right;\n",
       "    }\n",
       "</style>\n",
       "<table border=\"1\" class=\"dataframe\">\n",
       "  <thead>\n",
       "    <tr style=\"text-align: right;\">\n",
       "      <th></th>\n",
       "      <th>motor_type</th>\n",
       "      <th>watt</th>\n",
       "      <th>3PH/1PH</th>\n",
       "      <th>esp</th>\n",
       "      <th>air_velocity</th>\n",
       "      <th>power_consumption</th>\n",
       "      <th>current</th>\n",
       "      <th>power_factor</th>\n",
       "      <th>noise</th>\n",
       "      <th>vibration</th>\n",
       "      <th>filter_type</th>\n",
       "      <th>filter_thickness</th>\n",
       "      <th>filter_pressure</th>\n",
       "      <th>spec</th>\n",
       "    </tr>\n",
       "  </thead>\n",
       "  <tbody>\n",
       "    <tr>\n",
       "      <th>0</th>\n",
       "      <td>BLDC</td>\n",
       "      <td>502</td>\n",
       "      <td>1PH</td>\n",
       "      <td>11</td>\n",
       "      <td>0.7</td>\n",
       "      <td>600</td>\n",
       "      <td>3.73</td>\n",
       "      <td>86</td>\n",
       "      <td>61</td>\n",
       "      <td>1.00</td>\n",
       "      <td>ULPA</td>\n",
       "      <td>75t</td>\n",
       "      <td>13.5</td>\n",
       "      <td>a</td>\n",
       "    </tr>\n",
       "    <tr>\n",
       "      <th>1</th>\n",
       "      <td>AC</td>\n",
       "      <td>422</td>\n",
       "      <td>1PH</td>\n",
       "      <td>9</td>\n",
       "      <td>0.7</td>\n",
       "      <td>599</td>\n",
       "      <td>3.44</td>\n",
       "      <td>84</td>\n",
       "      <td>63</td>\n",
       "      <td>1.00</td>\n",
       "      <td>ULPA</td>\n",
       "      <td>75t</td>\n",
       "      <td>14.0</td>\n",
       "      <td>a</td>\n",
       "    </tr>\n",
       "    <tr>\n",
       "      <th>2</th>\n",
       "      <td>BLDC</td>\n",
       "      <td>631</td>\n",
       "      <td>1PH</td>\n",
       "      <td>10</td>\n",
       "      <td>0.7</td>\n",
       "      <td>598</td>\n",
       "      <td>3.39</td>\n",
       "      <td>97</td>\n",
       "      <td>56</td>\n",
       "      <td>1.00</td>\n",
       "      <td>ULPA</td>\n",
       "      <td>120t</td>\n",
       "      <td>13.5</td>\n",
       "      <td>a</td>\n",
       "    </tr>\n",
       "    <tr>\n",
       "      <th>3</th>\n",
       "      <td>BLDC</td>\n",
       "      <td>542</td>\n",
       "      <td>3PH</td>\n",
       "      <td>8</td>\n",
       "      <td>0.5</td>\n",
       "      <td>585</td>\n",
       "      <td>3.13</td>\n",
       "      <td>85</td>\n",
       "      <td>52</td>\n",
       "      <td>1.00</td>\n",
       "      <td>ULPA</td>\n",
       "      <td>75t</td>\n",
       "      <td>13.0</td>\n",
       "      <td>a</td>\n",
       "    </tr>\n",
       "    <tr>\n",
       "      <th>4</th>\n",
       "      <td>BLDC</td>\n",
       "      <td>472</td>\n",
       "      <td>3PH</td>\n",
       "      <td>9</td>\n",
       "      <td>0.5</td>\n",
       "      <td>472</td>\n",
       "      <td>1.78</td>\n",
       "      <td>65</td>\n",
       "      <td>50</td>\n",
       "      <td>0.81</td>\n",
       "      <td>HEPA</td>\n",
       "      <td>75t</td>\n",
       "      <td>13.0</td>\n",
       "      <td>a</td>\n",
       "    </tr>\n",
       "    <tr>\n",
       "      <th>...</th>\n",
       "      <td>...</td>\n",
       "      <td>...</td>\n",
       "      <td>...</td>\n",
       "      <td>...</td>\n",
       "      <td>...</td>\n",
       "      <td>...</td>\n",
       "      <td>...</td>\n",
       "      <td>...</td>\n",
       "      <td>...</td>\n",
       "      <td>...</td>\n",
       "      <td>...</td>\n",
       "      <td>...</td>\n",
       "      <td>...</td>\n",
       "      <td>...</td>\n",
       "    </tr>\n",
       "    <tr>\n",
       "      <th>56</th>\n",
       "      <td>AC</td>\n",
       "      <td>571</td>\n",
       "      <td>1PH</td>\n",
       "      <td>9</td>\n",
       "      <td>0.4</td>\n",
       "      <td>403</td>\n",
       "      <td>2.35</td>\n",
       "      <td>99</td>\n",
       "      <td>50</td>\n",
       "      <td>0.67</td>\n",
       "      <td>ULPA</td>\n",
       "      <td>75t</td>\n",
       "      <td>13.0</td>\n",
       "      <td>a</td>\n",
       "    </tr>\n",
       "    <tr>\n",
       "      <th>57</th>\n",
       "      <td>BLDC</td>\n",
       "      <td>510</td>\n",
       "      <td>3PH</td>\n",
       "      <td>9</td>\n",
       "      <td>0.4</td>\n",
       "      <td>403</td>\n",
       "      <td>2.33</td>\n",
       "      <td>78</td>\n",
       "      <td>54</td>\n",
       "      <td>0.66</td>\n",
       "      <td>HEPA</td>\n",
       "      <td>75t</td>\n",
       "      <td>12.5</td>\n",
       "      <td>a</td>\n",
       "    </tr>\n",
       "    <tr>\n",
       "      <th>58</th>\n",
       "      <td>BLDC</td>\n",
       "      <td>505</td>\n",
       "      <td>1PH</td>\n",
       "      <td>12</td>\n",
       "      <td>0.4</td>\n",
       "      <td>403</td>\n",
       "      <td>2.34</td>\n",
       "      <td>87</td>\n",
       "      <td>62</td>\n",
       "      <td>0.66</td>\n",
       "      <td>ULPA</td>\n",
       "      <td>75t</td>\n",
       "      <td>13.5</td>\n",
       "      <td>a</td>\n",
       "    </tr>\n",
       "    <tr>\n",
       "      <th>59</th>\n",
       "      <td>BLDC</td>\n",
       "      <td>388</td>\n",
       "      <td>3PH</td>\n",
       "      <td>9</td>\n",
       "      <td>0.4</td>\n",
       "      <td>403</td>\n",
       "      <td>2.34</td>\n",
       "      <td>78</td>\n",
       "      <td>55</td>\n",
       "      <td>0.65</td>\n",
       "      <td>HEPA</td>\n",
       "      <td>75t</td>\n",
       "      <td>13.0</td>\n",
       "      <td>a</td>\n",
       "    </tr>\n",
       "    <tr>\n",
       "      <th>60</th>\n",
       "      <td>AC</td>\n",
       "      <td>528</td>\n",
       "      <td>3PH</td>\n",
       "      <td>9</td>\n",
       "      <td>0.4</td>\n",
       "      <td>400</td>\n",
       "      <td>2.33</td>\n",
       "      <td>85</td>\n",
       "      <td>51</td>\n",
       "      <td>0.63</td>\n",
       "      <td>HEPA</td>\n",
       "      <td>75t</td>\n",
       "      <td>12.5</td>\n",
       "      <td>a</td>\n",
       "    </tr>\n",
       "  </tbody>\n",
       "</table>\n",
       "<p>61 rows × 14 columns</p>\n",
       "</div>"
      ],
      "text/plain": [
       "   motor_type  watt 3PH/1PH  esp  air_velocity  power_consumption  current  \\\n",
       "0        BLDC   502     1PH   11           0.7                600     3.73   \n",
       "1          AC   422     1PH    9           0.7                599     3.44   \n",
       "2        BLDC   631     1PH   10           0.7                598     3.39   \n",
       "3        BLDC   542     3PH    8           0.5                585     3.13   \n",
       "4        BLDC   472     3PH    9           0.5                472     1.78   \n",
       "..        ...   ...     ...  ...           ...                ...      ...   \n",
       "56         AC   571     1PH    9           0.4                403     2.35   \n",
       "57       BLDC   510     3PH    9           0.4                403     2.33   \n",
       "58       BLDC   505     1PH   12           0.4                403     2.34   \n",
       "59       BLDC   388     3PH    9           0.4                403     2.34   \n",
       "60         AC   528     3PH    9           0.4                400     2.33   \n",
       "\n",
       "    power_factor  noise  vibration filter_type filter_thickness  \\\n",
       "0             86     61       1.00        ULPA              75t   \n",
       "1             84     63       1.00        ULPA              75t   \n",
       "2             97     56       1.00        ULPA             120t   \n",
       "3             85     52       1.00        ULPA              75t   \n",
       "4             65     50       0.81        HEPA              75t   \n",
       "..           ...    ...        ...         ...              ...   \n",
       "56            99     50       0.67        ULPA              75t   \n",
       "57            78     54       0.66        HEPA              75t   \n",
       "58            87     62       0.66        ULPA              75t   \n",
       "59            78     55       0.65        HEPA              75t   \n",
       "60            85     51       0.63        HEPA              75t   \n",
       "\n",
       "    filter_pressure spec  \n",
       "0              13.5    a  \n",
       "1              14.0    a  \n",
       "2              13.5    a  \n",
       "3              13.0    a  \n",
       "4              13.0    a  \n",
       "..              ...  ...  \n",
       "56             13.0    a  \n",
       "57             12.5    a  \n",
       "58             13.5    a  \n",
       "59             13.0    a  \n",
       "60             12.5    a  \n",
       "\n",
       "[61 rows x 14 columns]"
      ]
     },
     "execution_count": 11,
     "metadata": {},
     "output_type": "execute_result"
    }
   ],
   "source": [
    "df[df.spec == 'a']"
   ]
  },
  {
   "cell_type": "code",
   "execution_count": 15,
   "metadata": {},
   "outputs": [
    {
     "data": {
      "text/plain": [
       "['power_consumption', 'noise', 'vibration']"
      ]
     },
     "execution_count": 15,
     "metadata": {},
     "output_type": "execute_result"
    }
   ],
   "source": [
    "list(df[[\"power_consumption\", \"noise\", \"vibration\"]].columns)"
   ]
  },
  {
   "cell_type": "code",
   "execution_count": 14,
   "metadata": {},
   "outputs": [
    {
     "data": {
      "text/plain": [
       "0      1PH\n",
       "1      1PH\n",
       "2      1PH\n",
       "3      3PH\n",
       "4      3PH\n",
       "      ... \n",
       "229    1PH\n",
       "230    3PH\n",
       "231    1PH\n",
       "232    1PH\n",
       "233    3PH\n",
       "Name: 3PH/1PH, Length: 234, dtype: object"
      ]
     },
     "execution_count": 14,
     "metadata": {},
     "output_type": "execute_result"
    }
   ],
   "source": [
    "df['3PH/1PH']"
   ]
  },
  {
   "cell_type": "code",
   "execution_count": 18,
   "metadata": {},
   "outputs": [
    {
     "data": {
      "text/html": [
       "<div>\n",
       "<style scoped>\n",
       "    .dataframe tbody tr th:only-of-type {\n",
       "        vertical-align: middle;\n",
       "    }\n",
       "\n",
       "    .dataframe tbody tr th {\n",
       "        vertical-align: top;\n",
       "    }\n",
       "\n",
       "    .dataframe thead th {\n",
       "        text-align: right;\n",
       "    }\n",
       "</style>\n",
       "<table border=\"1\" class=\"dataframe\">\n",
       "  <thead>\n",
       "    <tr style=\"text-align: right;\">\n",
       "      <th></th>\n",
       "      <th>motor_type</th>\n",
       "      <th>watt</th>\n",
       "      <th>3PH/1PH</th>\n",
       "      <th>esp</th>\n",
       "      <th>air_velocity</th>\n",
       "      <th>power_consumption</th>\n",
       "      <th>current</th>\n",
       "      <th>power_factor</th>\n",
       "      <th>noise</th>\n",
       "      <th>vibration</th>\n",
       "      <th>filter_type</th>\n",
       "      <th>filter_thickness</th>\n",
       "      <th>filter_pressure</th>\n",
       "      <th>spec</th>\n",
       "    </tr>\n",
       "  </thead>\n",
       "  <tbody>\n",
       "  </tbody>\n",
       "</table>\n",
       "</div>"
      ],
      "text/plain": [
       "Empty DataFrame\n",
       "Columns: [motor_type, watt, 3PH/1PH, esp, air_velocity, power_consumption, current, power_factor, noise, vibration, filter_type, filter_thickness, filter_pressure, spec]\n",
       "Index: []"
      ]
     },
     "execution_count": 18,
     "metadata": {},
     "output_type": "execute_result"
    }
   ],
   "source": [
    "df_selected_variable = df[df.power_consumption == \"power_consumption\"]\n",
    "df_selected_variable"
   ]
  },
  {
   "cell_type": "code",
   "execution_count": 21,
   "metadata": {},
   "outputs": [
    {
     "ename": "KeyError",
     "evalue": "'moter_type'",
     "output_type": "error",
     "traceback": [
      "\u001b[1;31m---------------------------------------------------------------------------\u001b[0m",
      "\u001b[1;31mKeyError\u001b[0m                                  Traceback (most recent call last)",
      "Cell \u001b[1;32mIn[21], line 1\u001b[0m\n\u001b[1;32m----> 1\u001b[0m category_counts \u001b[38;5;241m=\u001b[39m \u001b[43mdf\u001b[49m\u001b[43m[\u001b[49m\u001b[38;5;124;43m\"\u001b[39;49m\u001b[38;5;124;43mspec\u001b[39;49m\u001b[38;5;124;43m\"\u001b[39;49m\u001b[43m]\u001b[49m\u001b[43m[\u001b[49m\u001b[38;5;124;43m\"\u001b[39;49m\u001b[38;5;124;43mmoter_type\u001b[39;49m\u001b[38;5;124;43m\"\u001b[39;49m\u001b[43m]\u001b[49m\u001b[38;5;241m.\u001b[39mvalue_counts()\u001b[38;5;241m.\u001b[39mreset_index()\n",
      "File \u001b[1;32mc:\\Users\\USER\\miniforge3\\envs\\myenv\\lib\\site-packages\\pandas\\core\\series.py:1112\u001b[0m, in \u001b[0;36mSeries.__getitem__\u001b[1;34m(self, key)\u001b[0m\n\u001b[0;32m   1109\u001b[0m     \u001b[38;5;28;01mreturn\u001b[39;00m \u001b[38;5;28mself\u001b[39m\u001b[38;5;241m.\u001b[39m_values[key]\n\u001b[0;32m   1111\u001b[0m \u001b[38;5;28;01melif\u001b[39;00m key_is_scalar:\n\u001b[1;32m-> 1112\u001b[0m     \u001b[38;5;28;01mreturn\u001b[39;00m \u001b[38;5;28;43mself\u001b[39;49m\u001b[38;5;241;43m.\u001b[39;49m\u001b[43m_get_value\u001b[49m\u001b[43m(\u001b[49m\u001b[43mkey\u001b[49m\u001b[43m)\u001b[49m\n\u001b[0;32m   1114\u001b[0m \u001b[38;5;66;03m# Convert generator to list before going through hashable part\u001b[39;00m\n\u001b[0;32m   1115\u001b[0m \u001b[38;5;66;03m# (We will iterate through the generator there to check for slices)\u001b[39;00m\n\u001b[0;32m   1116\u001b[0m \u001b[38;5;28;01mif\u001b[39;00m is_iterator(key):\n",
      "File \u001b[1;32mc:\\Users\\USER\\miniforge3\\envs\\myenv\\lib\\site-packages\\pandas\\core\\series.py:1228\u001b[0m, in \u001b[0;36mSeries._get_value\u001b[1;34m(self, label, takeable)\u001b[0m\n\u001b[0;32m   1225\u001b[0m     \u001b[38;5;28;01mreturn\u001b[39;00m \u001b[38;5;28mself\u001b[39m\u001b[38;5;241m.\u001b[39m_values[label]\n\u001b[0;32m   1227\u001b[0m \u001b[38;5;66;03m# Similar to Index.get_value, but we do not fall back to positional\u001b[39;00m\n\u001b[1;32m-> 1228\u001b[0m loc \u001b[38;5;241m=\u001b[39m \u001b[38;5;28;43mself\u001b[39;49m\u001b[38;5;241;43m.\u001b[39;49m\u001b[43mindex\u001b[49m\u001b[38;5;241;43m.\u001b[39;49m\u001b[43mget_loc\u001b[49m\u001b[43m(\u001b[49m\u001b[43mlabel\u001b[49m\u001b[43m)\u001b[49m\n\u001b[0;32m   1230\u001b[0m \u001b[38;5;28;01mif\u001b[39;00m is_integer(loc):\n\u001b[0;32m   1231\u001b[0m     \u001b[38;5;28;01mreturn\u001b[39;00m \u001b[38;5;28mself\u001b[39m\u001b[38;5;241m.\u001b[39m_values[loc]\n",
      "File \u001b[1;32mc:\\Users\\USER\\miniforge3\\envs\\myenv\\lib\\site-packages\\pandas\\core\\indexes\\range.py:417\u001b[0m, in \u001b[0;36mRangeIndex.get_loc\u001b[1;34m(self, key)\u001b[0m\n\u001b[0;32m    415\u001b[0m         \u001b[38;5;28;01mraise\u001b[39;00m \u001b[38;5;167;01mKeyError\u001b[39;00m(key) \u001b[38;5;28;01mfrom\u001b[39;00m \u001b[38;5;21;01merr\u001b[39;00m\n\u001b[0;32m    416\u001b[0m \u001b[38;5;28;01mif\u001b[39;00m \u001b[38;5;28misinstance\u001b[39m(key, Hashable):\n\u001b[1;32m--> 417\u001b[0m     \u001b[38;5;28;01mraise\u001b[39;00m \u001b[38;5;167;01mKeyError\u001b[39;00m(key)\n\u001b[0;32m    418\u001b[0m \u001b[38;5;28mself\u001b[39m\u001b[38;5;241m.\u001b[39m_check_indexing_error(key)\n\u001b[0;32m    419\u001b[0m \u001b[38;5;28;01mraise\u001b[39;00m \u001b[38;5;167;01mKeyError\u001b[39;00m(key)\n",
      "\u001b[1;31mKeyError\u001b[0m: 'moter_type'"
     ]
    }
   ],
   "source": [
    "category_counts = df[\"spec\"][\"moter_type\"].value_counts().reset_index()\n"
   ]
  },
  {
   "cell_type": "code",
   "execution_count": null,
   "metadata": {},
   "outputs": [],
   "source": [
    "category_counts = df_selected_spec[selected_categorical].value_counts().reset_index()\n",
    "category_counts.columns = [selected_categorical, 'Count']"
   ]
  }
 ],
 "metadata": {
  "kernelspec": {
   "display_name": "myenv",
   "language": "python",
   "name": "python3"
  },
  "language_info": {
   "codemirror_mode": {
    "name": "ipython",
    "version": 3
   },
   "file_extension": ".py",
   "mimetype": "text/x-python",
   "name": "python",
   "nbconvert_exporter": "python",
   "pygments_lexer": "ipython3",
   "version": "3.10.13"
  }
 },
 "nbformat": 4,
 "nbformat_minor": 2
}
